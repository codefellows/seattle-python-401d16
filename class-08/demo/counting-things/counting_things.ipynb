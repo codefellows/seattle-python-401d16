{
 "metadata": {
  "language_info": {
   "codemirror_mode": {
    "name": "ipython",
    "version": 3
   },
   "file_extension": ".py",
   "mimetype": "text/x-python",
   "name": "python",
   "nbconvert_exporter": "python",
   "pygments_lexer": "ipython3",
   "version": "3.8.7"
  },
  "orig_nbformat": 2,
  "kernelspec": {
   "name": "pythonjvsc74a57bd029d789a6d37381bb45f1be0682268b131b16e9511d317a13be006c4e59d02019",
   "display_name": "Python 3.8.7 64-bit ('.venv': venv)"
  },
  "metadata": {
   "interpreter": {
    "hash": "29d789a6d37381bb45f1be0682268b131b16e9511d317a13be006c4e59d02019"
   }
  }
 },
 "nbformat": 4,
 "nbformat_minor": 2,
 "cells": [
  {
   "source": [
    "## Why\n",
    "\n",
    "We're pretty good as humans at intuitively counting things, at least until the numbers get big. \n",
    "\n",
    "E.g. Look at a fruit basket and tell the most common fruit. We can usually do a decent job at that without spending too much time thinking about it.\n",
    "\n",
    "How can we tell a computer to do it?"
   ],
   "cell_type": "markdown",
   "metadata": {}
  },
  {
   "cell_type": "code",
   "execution_count": null,
   "metadata": {},
   "outputs": [],
   "source": [
    "fruit = [\"apple\",\"banana\",\"orange\",\"apple\",\"banana\",\"apple\"]"
   ]
  },
  {
   "source": [
    "- Write code to determine fruit is most common?\n",
    "- What about 2nd most?\n",
    "- Least common?"
   ],
   "cell_type": "markdown",
   "metadata": {}
  },
  {
   "cell_type": "code",
   "execution_count": null,
   "metadata": {},
   "outputs": [],
   "source": [
    "# attempt #1\n",
    "fruit_map = {}\n",
    "for piece in fruit:\n",
    "    current_count = fruit_map.get(piece, 0)\n",
    "    fruit_map[piece] = current_count + 1\n",
    "\n",
    "print(fruit_map)\n"
   ]
  },
  {
   "cell_type": "code",
   "execution_count": null,
   "metadata": {},
   "outputs": [],
   "source": [
    "most_common_count = 0\n",
    "most_common_fruit = None\n",
    "\n",
    "for fruit_name in fruit_map:\n",
    "    if fruit_map[fruit_name] > most_common_count:\n",
    "        most_common_count = fruit_map[fruit_name]\n",
    "        most_common_fruit = fruit_name\n",
    "\n",
    "print(most_common_fruit)"
   ]
  },
  {
   "source": [
    "- That works, at least for most common. \n",
    "- Could probably do similar thing for least common \n",
    "- Not sure what to do about frequencies in the middle\n",
    "- And that took a fair amount of code."
   ],
   "cell_type": "markdown",
   "metadata": {}
  },
  {
   "source": [
    "\n",
    "## What\n",
    "\n",
    "- It turns out that the Python Standard Library has a very handy module to help us out..."
   ],
   "cell_type": "markdown",
   "metadata": {}
  },
  {
   "source": [
    "## How\n",
    "- Since it's in Standard Library we don't need to install it\n",
    "- Just import and use"
   ],
   "cell_type": "markdown",
   "metadata": {}
  },
  {
   "cell_type": "code",
   "execution_count": null,
   "metadata": {},
   "outputs": [],
   "source": [
    "from collections import Counter\n",
    "\n",
    "fruit_counter = Counter(fruit)\n",
    "\n",
    "print(fruit_counter)"
   ]
  },
  {
   "source": [
    "- Well look at that, we got a dictionary (or at least something dictionary like) for cheap.\n",
    "- It gets better"
   ],
   "cell_type": "markdown",
   "metadata": {}
  },
  {
   "cell_type": "code",
   "execution_count": null,
   "metadata": {},
   "outputs": [],
   "source": [
    "fruit_counter.most_common()"
   ]
  },
  {
   "source": [
    "\"You're welcome\" - Python Standard Library"
   ],
   "cell_type": "markdown",
   "metadata": {}
  },
  {
   "source": [
    "### Pro Tip: Great place to find out about Counter and more is [Python Module of the Week](https://pymotw.com/3/)"
   ],
   "cell_type": "markdown",
   "metadata": {}
  },
  {
   "cell_type": "code",
   "execution_count": null,
   "metadata": {},
   "outputs": [],
   "source": []
  }
 ]
}